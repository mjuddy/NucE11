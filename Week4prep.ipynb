{
  "nbformat": 4,
  "nbformat_minor": 0,
  "metadata": {
    "colab": {
      "provenance": []
    },
    "kernelspec": {
      "name": "python3",
      "display_name": "Python 3"
    },
    "language_info": {
      "name": "python"
    }
  },
  "cells": [
    {
      "cell_type": "code",
      "execution_count": null,
      "metadata": {
        "id": "ld05lUoRJ5u6"
      },
      "outputs": [],
      "source": [
        "import time\n",
        "import board\n",
        "import busio\n",
        "from digitalio import DigitalInOut, Direction, Pull\n",
        "from adafruit_pm25.i2c import PM25_I2C"
      ]
    },
    {
      "cell_type": "code",
      "source": [
        "un=in(time.time())\n",
        "timr=unix+30"
      ],
      "metadata": {
        "id": "EN3sCiQzKY0E"
      },
      "execution_count": null,
      "outputs": []
    },
    {
      "cell_type": "code",
      "source": [
        "reset=none"
      ],
      "metadata": {
        "id": "lXN_EC3iKhOc"
      },
      "execution_count": null,
      "outputs": []
    },
    {
      "cell_type": "code",
      "source": [
        "import serial\n",
        "uart=seriel.Serial(\"/dev/ttyS0\", baudrate=9600,timeout=0.25)"
      ],
      "metadata": {
        "id": "rgVEY10KK7KD"
      },
      "execution_count": null,
      "outputs": []
    },
    {
      "cell_type": "code",
      "source": [
        "from adafruit_pm25.uart import PM25_UART\n",
        "pm25=PM25_UART(uart, reset_pin)\n"
      ],
      "metadata": {
        "id": "tpwOp_avLxOM"
      },
      "execution_count": null,
      "outputs": []
    },
    {
      "cell_type": "code",
      "source": [
        "print (\"Found PM2.5 sensor, reading data...\")\n",
        "meta_data=[\"Time\",\"pm10std\", \"pm25std\",\"pm100std\"]\n",
        "import csv\n",
        "f=open(\"data.csv\", \"w\",newline='')\n",
        "write=csv.write(f)\n",
        "write.writerow(meta_data)\n"
      ],
      "metadata": {
        "id": "0D6jLyoZMvBO"
      },
      "execution_count": null,
      "outputs": []
    },
    {
      "cell_type": "code",
      "source": [
        "while unix<timr:\n",
        "  time.sleep(1)\n",
        "  unix=int(time.time())\n",
        "  t=time.time()\n",
        "  print(time.time)\n",
        "  try:\n",
        "      aqdata=pm25.read()\n",
        "      print(aqdata)\n",
        "  data= [t,aqdata[\"pm10 standard\"], aqdata[\"pm25 standard\"], aqdata[\"pm100 standard\"]]\n",
        "  write.writerow(data)\n"
      ],
      "metadata": {
        "id": "2RllWoc2NgGb"
      },
      "execution_count": null,
      "outputs": []
    },
    {
      "cell_type": "code",
      "source": [
        "f.close()"
      ],
      "metadata": {
        "id": "Szbhz9WjO2Rx"
      },
      "execution_count": null,
      "outputs": []
    }
  ]
}